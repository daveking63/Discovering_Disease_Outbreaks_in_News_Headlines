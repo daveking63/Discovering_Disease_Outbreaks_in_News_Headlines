{
 "cells": [
  {
   "cell_type": "code",
   "execution_count": 1,
   "metadata": {},
   "outputs": [],
   "source": [
    "# display all output and eliminate scrolling in output areas\n",
    "\n",
    "from IPython.core.interactiveshell import InteractiveShell\n",
    "InteractiveShell.ast_node_interactivity = \"all\""
   ]
  },
  {
   "cell_type": "code",
   "execution_count": 2,
   "metadata": {},
   "outputs": [
    {
     "data": {
      "application/javascript": [
       "IPython.OutputArea.prototype._should_scroll = function(lines) {\n",
       "    return false;\n",
       "}\n"
      ],
      "text/plain": [
       "<IPython.core.display.Javascript object>"
      ]
     },
     "metadata": {},
     "output_type": "display_data"
    }
   ],
   "source": [
    "%%javascript\n",
    "IPython.OutputArea.prototype._should_scroll = function(lines) {\n",
    "    return false;\n",
    "}"
   ]
  },
  {
   "cell_type": "markdown",
   "metadata": {},
   "source": [
    "<h2>Discovering Disease Outbreaks from News Headlings</h2>"
   ]
  },
  {
   "cell_type": "markdown",
   "metadata": {},
   "source": [
    "<h3>1. Load headline data and examine for data quality issues</h3>"
   ]
  },
  {
   "cell_type": "code",
   "execution_count": 3,
   "metadata": {},
   "outputs": [],
   "source": [
    "# key libraries\n",
    "\n",
    "from unidecode import unidecode\n",
    "import geonamescache\n",
    "import re\n",
    "import numpy as np\n",
    "import pandas as pd"
   ]
  },
  {
   "cell_type": "markdown",
   "metadata": {},
   "source": [
    "<h4>Loading and verifying headlines</h4>"
   ]
  },
  {
   "cell_type": "code",
   "execution_count": 4,
   "metadata": {
    "scrolled": true
   },
   "outputs": [
    {
     "name": "stdout",
     "output_type": "stream",
     "text": [
      "Num of headlines 650\n",
      "\n",
      "Sample headlines:\n",
      "\n",
      "Zika Outbreak Hits Miami\n",
      "Could Zika Reach New York City?\n",
      "First Case of Zika in Miami Beach\n",
      "Mystery Virus Spreads in Recife, Brazil\n",
      "Dallas man comes down with case of Zika\n",
      "Trinidad confirms first Zika case\n",
      "Zika Concerns are Spreading in Houston\n",
      "Geneve Scientists Battle to Find Cure\n",
      "The CDC in Atlanta is Growing Worried\n",
      "Zika Infested Monkeys in Sao Paulo\n"
     ]
    }
   ],
   "source": [
    "# load headlines\n",
    "\n",
    "fName = \"data/headlines.txt\"\n",
    "\n",
    "headlines = [line.strip() for line in open(fName,'r')]\n",
    "\n",
    "print('Num of headlines', len(headlines))\n",
    "print('\\nSample headlines:\\n')\n",
    "for headline in headlines[:10]:\n",
    "    print(headline)\n",
    "\n"
   ]
  },
  {
   "cell_type": "markdown",
   "metadata": {},
   "source": [
    "<h4>Some potential problems</h4>\n",
    "<ul>\n",
    "    <li><i>Accent Marks</i> -- A large number of the cities in the world have names with accents (e.g. São Paulo, Brazil). However, in the headlines there are no accent marks (e.g. Zika Infested Monkeys in Sao Paulo). Need to develop a search scheme that ignores the accents.</li>\n",
    "    <li><i>Headlines without Country or State/Province/Region Names</i> -- Most of the headlines have no country names or state/province/region names (e.g. in the above sample there is only one - Recife, Brazil). Since most city names are not unique (e.g. there are at least 6 cities in the world named Los Angeles and there are at least 11 cities in the U.S. named Dallas), we need to have a way to determine which of the possibilities is most probable.</li>\n",
    "    <li><i>Number of City Names that are Common (English) Words</i> -- In the 'geonamecache' dictionaries (discussed below) there are at least: 5 two letter words that are city names including the word 'Of'; 125 names with only three letters including 'Man', 'Gap', and 'Bar'; 720 four letter names including: Best, Date, Much, and Same. This means we have to have a strategy for handling uppercase letters and 'capitalized' words and a strategy for determining whether the word is a location or not. For instance, in the headline above \"Dallas man comes down with case of Zika\" we know that 'man' is not a location, but how do we determine this programmatically.</li>\n",
    "    <li><i>City Names with Two or More Words</i> -- Many city names consist of two or more words. Often, the individual words are also the names of cities. In the above examples, a case in point is Miami Beach. Miami is a legitimate location and so is Miami Beach. Same is true for a city like San Francisco. 'San' is the name of a city and, obviously, so is San Francisco. Again, we need a search strategy that chooses the most likely candidate.</li>\n",
    "    <li><i>Punctuation Marks in Location Names</i> -- Occasionally, location names will contain punctuation marks.  For example, names with apostorphes to designate possession (e.g. Chicago's First Zika Case Confirmed) or names that have been hypenated (e.g.Thailand-Zika Virus in Bangkok). Looking at it, the first instinct is to eliminate the punctuation marks. Problem is that 64 of the city names in the geonamecache city dictionary have one or more apostrophes and 758 have hypenated names.</li> \n",
    "    <li><i>Headlines with Missing or Unmatched Location Names</i> -- Some headlines lack location names altogether (e.g. 'Zika Virus sparks International Concern'). Others, specify a location name but not a specific city or country name (e.g. 'Louisiana Zika cases up to 26' or 'New Zika Case Confirmed in Sarasota County'). While we can jetison the first example, what about the other two? Eventually, we want to associate specific locations with the names, so what method would we use in these sorts of cases?</li>\n",
    "    <li><i>Headlines with no Disease Mentioned</i> -- While the initial focus is on delineating location names, there are sentences that have locations but are missing a well-delineated disease. Cases in point are the following headlines in the above examples: 'Geneve Scientists Battle to Find Cure' and 'The CDC in Atlanta is Growing Worried'. Or, one that is not displayed: 'Cancun hit by Party Fever.' With the first two, the full story might provide the name of the disease. In the third case, there is no underlying disease. The question is: do we eliminate these stories. If so, how do we do it programmatically.</li>\n",
    "</ul>"
   ]
  },
  {
   "cell_type": "markdown",
   "metadata": {},
   "source": [
    "<h3>2. Match cities/countries within each headline</h3>\n",
    "\n",
    "Use regex and geonamecache library to match city and country names within each headline, normalizing to remove accent marks and insuring that complete (not partical) city name is matched."
   ]
  },
  {
   "cell_type": "code",
   "execution_count": 5,
   "metadata": {},
   "outputs": [],
   "source": [
    "# function to convert country or city names in geonamescache to regex of form\n",
    "# removing accent marks\n",
    "\n",
    "def name_to_regex(name):\n",
    "    decoded_name = unidecode(name)\n",
    "    if name != decoded_name:\n",
    "        regex = fr'\\b({name}|{decoded_name})\\b'\n",
    "    else:\n",
    "        regex = fr'\\b{name}\\b'\n",
    "    return re.compile(regex, flags=re.IGNORECASE)"
   ]
  },
  {
   "cell_type": "markdown",
   "metadata": {},
   "source": [
    "<h4>Converting country and city names to regex form</h4>"
   ]
  },
  {
   "cell_type": "code",
   "execution_count": 6,
   "metadata": {},
   "outputs": [
    {
     "name": "stdout",
     "output_type": "stream",
     "text": [
      "252 countries converted to regex form for country_to_name dictionary\n",
      "24336 cities converted to regex form for city_to_name dictionary\n"
     ]
    }
   ],
   "source": [
    "# converting countries and cities to regex form using geonamescache dictionairies\n",
    "\n",
    "gc = geonamescache.GeonamesCache()\n",
    "\n",
    "# Countries\n",
    "countries = [country['name'] for country in gc.get_countries().values()]\n",
    "country_to_name = {name_to_regex(name): name for name in countries}\n",
    "print(f\"{len(countries)} countries converted to regex form for country_to_name dictionary\")\n",
    "\n",
    "# Cities\n",
    "cities = [city['name'] for city in gc.get_cities().values()]\n",
    "city_to_name = {name_to_regex(name): name for name in cities}\n",
    "print(f\"{len(cities)} cities converted to regex form for city_to_name dictionary\")"
   ]
  },
  {
   "cell_type": "code",
   "execution_count": 7,
   "metadata": {},
   "outputs": [],
   "source": [
    "# function to find locations (countries and cities) in text\n",
    "# ensures complete (not partical) city name is matched\n",
    "\n",
    "def get_locs_in_headline(headline, dictionary):\n",
    "    locs_in_headline = set()\n",
    "    for regex, name in sorted(dictionary.items(), key=lambda x: x[1]):          \n",
    "        match = regex.search(headline)\n",
    "        if match:\n",
    "            if headline[match.start()].isupper():\n",
    "                locs_in_headline.add(unidecode(name))\n",
    "    locs = list(locs_in_headline)\n",
    "    if locs:\n",
    "        return max(locs, key=len)\n",
    "    return None"
   ]
  },
  {
   "cell_type": "code",
   "execution_count": 8,
   "metadata": {},
   "outputs": [],
   "source": [
    "# finding city and country names in headlines\n",
    "\n",
    "matched_countries = [get_locs_in_headline(headline, country_to_name) for headline in headlines]\n",
    "matched_cities = [get_locs_in_headline(headline, city_to_name) for headline in headlines]"
   ]
  },
  {
   "cell_type": "code",
   "execution_count": 9,
   "metadata": {},
   "outputs": [
    {
     "name": "stdout",
     "output_type": "stream",
     "text": [
      "Sample of countries in headlines: [None, None, None, 'Brazil', None, None, None, None, None, None]\n",
      "\n",
      "Sample of cities in headlines: ['Miami', 'New York City', 'Miami Beach', 'Recife', 'Dallas', 'Trinidad', 'Houston', 'Geneve', 'Atlanta', 'Sao Paulo']\n"
     ]
    }
   ],
   "source": [
    "# samples of countries and cities\n",
    "\n",
    "print('Sample of countries in headlines:', matched_countries[0:10])\n",
    "print('\\nSample of cities in headlines:', matched_cities[0:10])\n"
   ]
  },
  {
   "cell_type": "markdown",
   "metadata": {},
   "source": [
    "<h3>3. Extract data into pandas DataFrame with 3 cols - headline, city, country</h3>"
   ]
  },
  {
   "cell_type": "code",
   "execution_count": 10,
   "metadata": {
    "scrolled": true
   },
   "outputs": [],
   "source": [
    "data = {'Headline': headlines, 'City': matched_cities, 'Country': matched_countries}\n",
    "df = pd.DataFrame(data)"
   ]
  },
  {
   "cell_type": "markdown",
   "metadata": {},
   "source": [
    "<h3>4. Review Sample of headlines, cities and countries for any remaining errors</h3>"
   ]
  },
  {
   "cell_type": "code",
   "execution_count": 11,
   "metadata": {},
   "outputs": [
    {
     "data": {
      "text/html": [
       "<div>\n",
       "<style scoped>\n",
       "    .dataframe tbody tr th:only-of-type {\n",
       "        vertical-align: middle;\n",
       "    }\n",
       "\n",
       "    .dataframe tbody tr th {\n",
       "        vertical-align: top;\n",
       "    }\n",
       "\n",
       "    .dataframe thead th {\n",
       "        text-align: right;\n",
       "    }\n",
       "</style>\n",
       "<table border=\"1\" class=\"dataframe\">\n",
       "  <thead>\n",
       "    <tr style=\"text-align: right;\">\n",
       "      <th></th>\n",
       "      <th>Headline</th>\n",
       "      <th>City</th>\n",
       "      <th>Country</th>\n",
       "    </tr>\n",
       "  </thead>\n",
       "  <tbody>\n",
       "    <tr>\n",
       "      <th>0</th>\n",
       "      <td>Zika Outbreak Hits Miami</td>\n",
       "      <td>Miami</td>\n",
       "      <td>None</td>\n",
       "    </tr>\n",
       "    <tr>\n",
       "      <th>1</th>\n",
       "      <td>Could Zika Reach New York City?</td>\n",
       "      <td>New York City</td>\n",
       "      <td>None</td>\n",
       "    </tr>\n",
       "    <tr>\n",
       "      <th>2</th>\n",
       "      <td>First Case of Zika in Miami Beach</td>\n",
       "      <td>Miami Beach</td>\n",
       "      <td>None</td>\n",
       "    </tr>\n",
       "    <tr>\n",
       "      <th>3</th>\n",
       "      <td>Mystery Virus Spreads in Recife, Brazil</td>\n",
       "      <td>Recife</td>\n",
       "      <td>Brazil</td>\n",
       "    </tr>\n",
       "    <tr>\n",
       "      <th>4</th>\n",
       "      <td>Dallas man comes down with case of Zika</td>\n",
       "      <td>Dallas</td>\n",
       "      <td>None</td>\n",
       "    </tr>\n",
       "  </tbody>\n",
       "</table>\n",
       "</div>"
      ],
      "text/plain": [
       "                                  Headline           City Country\n",
       "0                 Zika Outbreak Hits Miami          Miami    None\n",
       "1          Could Zika Reach New York City?  New York City    None\n",
       "2        First Case of Zika in Miami Beach    Miami Beach    None\n",
       "3  Mystery Virus Spreads in Recife, Brazil         Recife  Brazil\n",
       "4  Dallas man comes down with case of Zika         Dallas    None"
      ]
     },
     "execution_count": 11,
     "metadata": {},
     "output_type": "execute_result"
    },
    {
     "data": {
      "text/html": [
       "<div>\n",
       "<style scoped>\n",
       "    .dataframe tbody tr th:only-of-type {\n",
       "        vertical-align: middle;\n",
       "    }\n",
       "\n",
       "    .dataframe tbody tr th {\n",
       "        vertical-align: top;\n",
       "    }\n",
       "\n",
       "    .dataframe thead th {\n",
       "        text-align: right;\n",
       "    }\n",
       "</style>\n",
       "<table border=\"1\" class=\"dataframe\">\n",
       "  <thead>\n",
       "    <tr style=\"text-align: right;\">\n",
       "      <th></th>\n",
       "      <th>Headline</th>\n",
       "      <th>City</th>\n",
       "      <th>Country</th>\n",
       "    </tr>\n",
       "  </thead>\n",
       "  <tbody>\n",
       "    <tr>\n",
       "      <th>17</th>\n",
       "      <td>Louisiana Zika cases up to 26</td>\n",
       "      <td>None</td>\n",
       "      <td>None</td>\n",
       "    </tr>\n",
       "    <tr>\n",
       "      <th>236</th>\n",
       "      <td>Zika Virus Sparks 'International Concern'</td>\n",
       "      <td>Sparks</td>\n",
       "      <td>None</td>\n",
       "    </tr>\n",
       "  </tbody>\n",
       "</table>\n",
       "</div>"
      ],
      "text/plain": [
       "                                      Headline    City Country\n",
       "17               Louisiana Zika cases up to 26    None    None\n",
       "236  Zika Virus Sparks 'International Concern'  Sparks    None"
      ]
     },
     "execution_count": 11,
     "metadata": {},
     "output_type": "execute_result"
    }
   ],
   "source": [
    "#review samples\n",
    "\n",
    "df.head(5)\n",
    "\n",
    "df.loc[[17, 236]]"
   ]
  },
  {
   "cell_type": "markdown",
   "metadata": {},
   "source": [
    "Most of the issues with inadvertently matching common words for city names (e.g. 'of', see #3) and matching 'short, invalid' city names instead of the 'longer, valid' names with (e.g. Miami instead of Miami Beach, #2) have been eliminated. There are others that remain. A case in point is the identification of Sparks as the city in the headline 'Zika Virus Sparks International Concern'. Sparks is a legitimate city name but in this context sparks is a verb rather than a place name.\n",
    "\n",
    "Additionally, there is still the case of headlines with unmatched city names. The headline 'Louisiana Zika cases up to 26' provides a state name but no city name. There are 38 other cases where the city name is also missing. Because this represents a small percentage, the headlines with missing names are being eliminated."
   ]
  },
  {
   "cell_type": "code",
   "execution_count": 12,
   "metadata": {
    "scrolled": true
   },
   "outputs": [
    {
     "name": "stdout",
     "output_type": "stream",
     "text": [
      "611 headlines remaining\n"
     ]
    },
    {
     "data": {
      "text/html": [
       "<div>\n",
       "<style scoped>\n",
       "    .dataframe tbody tr th:only-of-type {\n",
       "        vertical-align: middle;\n",
       "    }\n",
       "\n",
       "    .dataframe tbody tr th {\n",
       "        vertical-align: top;\n",
       "    }\n",
       "\n",
       "    .dataframe thead th {\n",
       "        text-align: right;\n",
       "    }\n",
       "</style>\n",
       "<table border=\"1\" class=\"dataframe\">\n",
       "  <thead>\n",
       "    <tr style=\"text-align: right;\">\n",
       "      <th></th>\n",
       "      <th>Headline</th>\n",
       "      <th>City</th>\n",
       "      <th>Country</th>\n",
       "    </tr>\n",
       "  </thead>\n",
       "  <tbody>\n",
       "    <tr>\n",
       "      <th>0</th>\n",
       "      <td>Zika Outbreak Hits Miami</td>\n",
       "      <td>Miami</td>\n",
       "      <td>NaN</td>\n",
       "    </tr>\n",
       "    <tr>\n",
       "      <th>1</th>\n",
       "      <td>Could Zika Reach New York City?</td>\n",
       "      <td>New York City</td>\n",
       "      <td>NaN</td>\n",
       "    </tr>\n",
       "    <tr>\n",
       "      <th>2</th>\n",
       "      <td>First Case of Zika in Miami Beach</td>\n",
       "      <td>Miami Beach</td>\n",
       "      <td>NaN</td>\n",
       "    </tr>\n",
       "    <tr>\n",
       "      <th>3</th>\n",
       "      <td>Mystery Virus Spreads in Recife, Brazil</td>\n",
       "      <td>Recife</td>\n",
       "      <td>Brazil</td>\n",
       "    </tr>\n",
       "    <tr>\n",
       "      <th>4</th>\n",
       "      <td>Dallas man comes down with case of Zika</td>\n",
       "      <td>Dallas</td>\n",
       "      <td>NaN</td>\n",
       "    </tr>\n",
       "    <tr>\n",
       "      <th>...</th>\n",
       "      <td>...</td>\n",
       "      <td>...</td>\n",
       "      <td>...</td>\n",
       "    </tr>\n",
       "    <tr>\n",
       "      <th>645</th>\n",
       "      <td>Rumors about Rabies spreading in Jerusalem hav...</td>\n",
       "      <td>Jerusalem</td>\n",
       "      <td>NaN</td>\n",
       "    </tr>\n",
       "    <tr>\n",
       "      <th>646</th>\n",
       "      <td>More Zika patients reported in Indang</td>\n",
       "      <td>Indang</td>\n",
       "      <td>NaN</td>\n",
       "    </tr>\n",
       "    <tr>\n",
       "      <th>647</th>\n",
       "      <td>Suva authorities confirmed the spread of Rotav...</td>\n",
       "      <td>Suva</td>\n",
       "      <td>NaN</td>\n",
       "    </tr>\n",
       "    <tr>\n",
       "      <th>648</th>\n",
       "      <td>More Zika patients reported in Bella Vista</td>\n",
       "      <td>Bella Vista</td>\n",
       "      <td>NaN</td>\n",
       "    </tr>\n",
       "    <tr>\n",
       "      <th>649</th>\n",
       "      <td>Zika Outbreak in Wichita Falls</td>\n",
       "      <td>Wichita Falls</td>\n",
       "      <td>NaN</td>\n",
       "    </tr>\n",
       "  </tbody>\n",
       "</table>\n",
       "<p>611 rows × 3 columns</p>\n",
       "</div>"
      ],
      "text/plain": [
       "                                              Headline           City Country\n",
       "0                             Zika Outbreak Hits Miami          Miami     NaN\n",
       "1                      Could Zika Reach New York City?  New York City     NaN\n",
       "2                    First Case of Zika in Miami Beach    Miami Beach     NaN\n",
       "3              Mystery Virus Spreads in Recife, Brazil         Recife  Brazil\n",
       "4              Dallas man comes down with case of Zika         Dallas     NaN\n",
       "..                                                 ...            ...     ...\n",
       "645  Rumors about Rabies spreading in Jerusalem hav...      Jerusalem     NaN\n",
       "646              More Zika patients reported in Indang         Indang     NaN\n",
       "647  Suva authorities confirmed the spread of Rotav...           Suva     NaN\n",
       "648         More Zika patients reported in Bella Vista    Bella Vista     NaN\n",
       "649                     Zika Outbreak in Wichita Falls  Wichita Falls     NaN\n",
       "\n",
       "[611 rows x 3 columns]"
      ]
     },
     "execution_count": 12,
     "metadata": {},
     "output_type": "execute_result"
    }
   ],
   "source": [
    "# Final DataFrame with unmatched headlines eliminated\n",
    "# None's converted to NaN\n",
    "\n",
    "df_headlines_cities_countries = df[pd.notna(df['City'])][['Headline','City','Country']]\n",
    "df_headlines_cities_countries.replace(to_replace=[None], value=np.nan, inplace=True)\n",
    "\n",
    "print(f\"{len(df_headlines_cities_countries)} headlines remaining\")\n",
    "df_headlines_cities_countries"
   ]
  },
  {
   "cell_type": "markdown",
   "metadata": {},
   "source": [
    "<h3>5. Saving DataFrame for Further Analysis</h3>"
   ]
  },
  {
   "cell_type": "code",
   "execution_count": 13,
   "metadata": {},
   "outputs": [],
   "source": [
    "# save by storing in 'pickle' file\n",
    "\n",
    "df_headlines_cities_countries.to_pickle(\"data/df_headlines_cities_countries.pkl\")"
   ]
  }
 ],
 "metadata": {
  "CodeCell": {
   "cm_config": {
    "lineWrapping": true
   }
  },
  "MarkdownCell": {
   "cm_config": {
    "lineWrapping": true
   }
  },
  "kernelspec": {
   "display_name": "Python 3",
   "language": "python",
   "name": "python3"
  },
  "language_info": {
   "codemirror_mode": {
    "name": "ipython",
    "version": 3
   },
   "file_extension": ".py",
   "mimetype": "text/x-python",
   "name": "python",
   "nbconvert_exporter": "python",
   "pygments_lexer": "ipython3",
   "version": "3.7.3"
  }
 },
 "nbformat": 4,
 "nbformat_minor": 4
}
