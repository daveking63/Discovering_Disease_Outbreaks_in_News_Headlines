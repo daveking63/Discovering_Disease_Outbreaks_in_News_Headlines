{
 "cells": [
  {
   "cell_type": "code",
   "execution_count": 1,
   "metadata": {},
   "outputs": [],
   "source": [
    "# display all output and eliminate scrolling in output areas\n",
    "\n",
    "from IPython.core.interactiveshell import InteractiveShell\n",
    "InteractiveShell.ast_node_interactivity = \"all\""
   ]
  },
  {
   "cell_type": "code",
   "execution_count": 2,
   "metadata": {},
   "outputs": [
    {
     "data": {
      "application/javascript": [
       "IPython.OutputArea.prototype._should_scroll = function(lines) {\n",
       "    return false;\n",
       "}\n"
      ],
      "text/plain": [
       "<IPython.core.display.Javascript object>"
      ]
     },
     "metadata": {},
     "output_type": "display_data"
    }
   ],
   "source": [
    "%%javascript\n",
    "IPython.OutputArea.prototype._should_scroll = function(lines) {\n",
    "    return false;\n",
    "}"
   ]
  },
  {
   "cell_type": "markdown",
   "metadata": {},
   "source": [
    "<h2>Discovering Disease Outbreaks from News Headlings - Part 2</h2>"
   ]
  },
  {
   "cell_type": "code",
   "execution_count": 3,
   "metadata": {},
   "outputs": [],
   "source": [
    "# key libraries\n",
    "import os\n",
    "import re\n",
    "import numpy as np\n",
    "import pandas as pd\n",
    "\n",
    "from unidecode import unidecode\n",
    "from geonamescache import GeonamesCache\n",
    "gc = GeonamesCache()"
   ]
  },
  {
   "cell_type": "markdown",
   "metadata": {},
   "source": [
    "<h4>1. Load the pandas DataFrame (from Part 1) containing the headlines, countries, and cities</h4>"
   ]
  },
  {
   "cell_type": "code",
   "execution_count": 4,
   "metadata": {
    "scrolled": false
   },
   "outputs": [
    {
     "data": {
      "text/html": [
       "<div>\n",
       "<style scoped>\n",
       "    .dataframe tbody tr th:only-of-type {\n",
       "        vertical-align: middle;\n",
       "    }\n",
       "\n",
       "    .dataframe tbody tr th {\n",
       "        vertical-align: top;\n",
       "    }\n",
       "\n",
       "    .dataframe thead th {\n",
       "        text-align: right;\n",
       "    }\n",
       "</style>\n",
       "<table border=\"1\" class=\"dataframe\">\n",
       "  <thead>\n",
       "    <tr style=\"text-align: right;\">\n",
       "      <th></th>\n",
       "      <th>Headline</th>\n",
       "      <th>City</th>\n",
       "      <th>Country</th>\n",
       "    </tr>\n",
       "  </thead>\n",
       "  <tbody>\n",
       "    <tr>\n",
       "      <th>0</th>\n",
       "      <td>Zika Outbreak Hits Miami</td>\n",
       "      <td>Miami</td>\n",
       "      <td>NaN</td>\n",
       "    </tr>\n",
       "    <tr>\n",
       "      <th>1</th>\n",
       "      <td>Could Zika Reach New York City?</td>\n",
       "      <td>New York City</td>\n",
       "      <td>NaN</td>\n",
       "    </tr>\n",
       "    <tr>\n",
       "      <th>2</th>\n",
       "      <td>First Case of Zika in Miami Beach</td>\n",
       "      <td>Miami Beach</td>\n",
       "      <td>NaN</td>\n",
       "    </tr>\n",
       "    <tr>\n",
       "      <th>3</th>\n",
       "      <td>Mystery Virus Spreads in Recife, Brazil</td>\n",
       "      <td>Recife</td>\n",
       "      <td>Brazil</td>\n",
       "    </tr>\n",
       "    <tr>\n",
       "      <th>4</th>\n",
       "      <td>Dallas man comes down with case of Zika</td>\n",
       "      <td>Dallas</td>\n",
       "      <td>NaN</td>\n",
       "    </tr>\n",
       "  </tbody>\n",
       "</table>\n",
       "</div>"
      ],
      "text/plain": [
       "                                  Headline           City Country\n",
       "0                 Zika Outbreak Hits Miami          Miami     NaN\n",
       "1          Could Zika Reach New York City?  New York City     NaN\n",
       "2        First Case of Zika in Miami Beach    Miami Beach     NaN\n",
       "3  Mystery Virus Spreads in Recife, Brazil         Recife  Brazil\n",
       "4  Dallas man comes down with case of Zika         Dallas     NaN"
      ]
     },
     "execution_count": 4,
     "metadata": {},
     "output_type": "execute_result"
    }
   ],
   "source": [
    "df = pd.read_csv(\"data/df_headlines_cities_countries.txt\", sep=\"|\")\n",
    "\n",
    "df.head()"
   ]
  },
  {
   "cell_type": "code",
   "execution_count": 5,
   "metadata": {},
   "outputs": [
    {
     "data": {
      "text/html": [
       "<div>\n",
       "<style scoped>\n",
       "    .dataframe tbody tr th:only-of-type {\n",
       "        vertical-align: middle;\n",
       "    }\n",
       "\n",
       "    .dataframe tbody tr th {\n",
       "        vertical-align: top;\n",
       "    }\n",
       "\n",
       "    .dataframe thead th {\n",
       "        text-align: right;\n",
       "    }\n",
       "</style>\n",
       "<table border=\"1\" class=\"dataframe\">\n",
       "  <thead>\n",
       "    <tr style=\"text-align: right;\">\n",
       "      <th></th>\n",
       "      <th>Headline</th>\n",
       "      <th>City</th>\n",
       "      <th>Country</th>\n",
       "    </tr>\n",
       "  </thead>\n",
       "  <tbody>\n",
       "    <tr>\n",
       "      <th>0</th>\n",
       "      <td>Zika Outbreak Hits Miami</td>\n",
       "      <td>Miami</td>\n",
       "      <td>NaN</td>\n",
       "    </tr>\n",
       "    <tr>\n",
       "      <th>1</th>\n",
       "      <td>Could Zika Reach New York City?</td>\n",
       "      <td>New York City</td>\n",
       "      <td>NaN</td>\n",
       "    </tr>\n",
       "    <tr>\n",
       "      <th>2</th>\n",
       "      <td>First Case of Zika in Miami Beach</td>\n",
       "      <td>Miami Beach</td>\n",
       "      <td>NaN</td>\n",
       "    </tr>\n",
       "    <tr>\n",
       "      <th>3</th>\n",
       "      <td>Mystery Virus Spreads in Recife, Brazil</td>\n",
       "      <td>Recife</td>\n",
       "      <td>Brazil</td>\n",
       "    </tr>\n",
       "    <tr>\n",
       "      <th>4</th>\n",
       "      <td>Dallas man comes down with case of Zika</td>\n",
       "      <td>Dallas</td>\n",
       "      <td>NaN</td>\n",
       "    </tr>\n",
       "  </tbody>\n",
       "</table>\n",
       "</div>"
      ],
      "text/plain": [
       "                                  Headline           City Country\n",
       "0                 Zika Outbreak Hits Miami          Miami     NaN\n",
       "1          Could Zika Reach New York City?  New York City     NaN\n",
       "2        First Case of Zika in Miami Beach    Miami Beach     NaN\n",
       "3  Mystery Virus Spreads in Recife, Brazil         Recife  Brazil\n",
       "4  Dallas man comes down with case of Zika         Dallas     NaN"
      ]
     },
     "execution_count": 5,
     "metadata": {},
     "output_type": "execute_result"
    },
    {
     "data": {
      "text/html": [
       "<div>\n",
       "<style scoped>\n",
       "    .dataframe tbody tr th:only-of-type {\n",
       "        vertical-align: middle;\n",
       "    }\n",
       "\n",
       "    .dataframe tbody tr th {\n",
       "        vertical-align: top;\n",
       "    }\n",
       "\n",
       "    .dataframe thead th {\n",
       "        text-align: right;\n",
       "    }\n",
       "</style>\n",
       "<table border=\"1\" class=\"dataframe\">\n",
       "  <thead>\n",
       "    <tr style=\"text-align: right;\">\n",
       "      <th></th>\n",
       "      <th>Headline</th>\n",
       "      <th>City</th>\n",
       "      <th>Country</th>\n",
       "    </tr>\n",
       "  </thead>\n",
       "  <tbody>\n",
       "    <tr>\n",
       "      <th>count</th>\n",
       "      <td>611</td>\n",
       "      <td>611</td>\n",
       "      <td>15</td>\n",
       "    </tr>\n",
       "    <tr>\n",
       "      <th>unique</th>\n",
       "      <td>608</td>\n",
       "      <td>577</td>\n",
       "      <td>10</td>\n",
       "    </tr>\n",
       "    <tr>\n",
       "      <th>top</th>\n",
       "      <td>Spanish Flu Outbreak in Lisbon</td>\n",
       "      <td>Madrid</td>\n",
       "      <td>Malaysia</td>\n",
       "    </tr>\n",
       "    <tr>\n",
       "      <th>freq</th>\n",
       "      <td>2</td>\n",
       "      <td>4</td>\n",
       "      <td>3</td>\n",
       "    </tr>\n",
       "  </tbody>\n",
       "</table>\n",
       "</div>"
      ],
      "text/plain": [
       "                              Headline    City   Country\n",
       "count                              611     611        15\n",
       "unique                             608     577        10\n",
       "top     Spanish Flu Outbreak in Lisbon  Madrid  Malaysia\n",
       "freq                                 2       4         3"
      ]
     },
     "execution_count": 5,
     "metadata": {},
     "output_type": "execute_result"
    }
   ],
   "source": [
    "# brief check of the retrieved data\n",
    "df.head()\n",
    "df.describe(include=object)"
   ]
  },
  {
   "cell_type": "markdown",
   "metadata": {},
   "source": [
    "The above description reiterates that every in headline (in the remaining 611) mentions a city name, while the overwhelming majority are missing a country name. The implication is that the search for an associated longitude or latitude will have to be based on the city locations not the country locations."
   ]
  },
  {
   "cell_type": "markdown",
   "metadata": {},
   "source": [
    "<h4>2. For each city/country, match the name to the latitude and longitude in geonamescache.</h4>\n",
    "\n",
    "The geonamescache library provides a series of methods for retrieving a small set of geographic properties for continents, countries and cities of the world.  All of these methods return the associated info in the form of a Python 'dictionary'. In the case of the cities, there are two retrieval methods: 'get_cities' and 'get_cities_by_name'. In either case, the information provided includes: geonameid, name (accented name), latitude, longitude, countrycode (unique abbreviation), population, timezone, and admin1code (i.e. this is the administrative subdivision where the city is located - e.g. in US it could be the state). Since we have the city name, we'll use the latter method to retrieve the associated dictionary and subsequently the associated latitude and longitude."
   ]
  },
  {
   "cell_type": "markdown",
   "metadata": {},
   "source": [
    "<h5>Some issues with retrieving by city name</h5>\n",
    "\n",
    "<i>Issue 1: In the geonamescache city name dictionary the keys are not decoded</i>\n",
    "\n",
    "The first issue to be addressed is that the city names used as 'keys' in the geonamescache (gc) city dictionary are 'undecoded' and may or may not have accents, while the city names in the headlines dataframe have all been decoded so there are no accents. Take, for instance, a city like Sao Paulo which is one of the cities in the headlines. If you try to retrieve Sao Paulo's geographic info from the gc city dictionary, you won't find it because there the city name is São Paulo. On the other hand, with a city like Dallas there is no issue because the decoded and 'undecoded' names are the same. So, to overcome this problem, we need a way to determine for a given city name whether the decoded and undecoded versions are the same or not, and if not, what the accented ('undecoded') name is for a given decoded name.\n",
    "\n",
    "The supporting literature suggests the way to do this is to:\n",
    "\n",
    "<ol>\n",
    "    <li>Create a list (labeled 'accented_names') of all the accented names in the gc city name dictionary</li>\n",
    "    <li>For the list of accented_names, create a dictionary ('alternative_names') of key-value pairs ('unidecode(name):name') linking the decoded name to the name in the gc city names dictionary.</li>\n",
    "    <li>Finally, before a request is made to retrieve info (e.g 'latitude') for a (decoded) city name in a headline, you would use the 'alternative_names' dictionary to see whether the decoded city name had an accented counterpart. If so, the counterpart would be used in making the request. If not, you'd simply use the decoded city name. </li>\n",
    "</ol>\n",
    "\n",
    "Note: An alternative way is to create a lookup dictionary of 'unidecoded(name):name' pairs for all the cities in the gc city name database (not just the accented city names). This eliminates the need for steps 1 and 3 and is negligibly faster."
   ]
  },
  {
   "cell_type": "code",
   "execution_count": 6,
   "metadata": {},
   "outputs": [
    {
     "name": "stdout",
     "output_type": "stream",
     "text": [
      "Retrieving the alternative names for small sample of cities in headlines\n",
      "\n",
      "Miami\n",
      "New York City\n",
      "Miami Beach\n",
      "Recife\n",
      "Dallas\n",
      "Trinidad\n",
      "Houston\n",
      "Genève\n",
      "Atlanta\n",
      "São Paulo\n",
      "Brownsville\n"
     ]
    }
   ],
   "source": [
    "accented_names = [city['name'] for city in gc.get_cities( ).values()\n",
    "                  if city['name'] != unidecode(city['name'])]\n",
    "\n",
    "alternative_names = {unidecode(name):name for name in accented_names}\n",
    "\n",
    "print('Retrieving the alternative names for small sample of cities in headlines\\n')\n",
    "\n",
    "for city_name in df.loc[0:10,'City']:\n",
    "    if (city_name in alternative_names): city_name = alternative_names[city_name]\n",
    "    print(city_name)\n"
   ]
  },
  {
   "cell_type": "code",
   "execution_count": 7,
   "metadata": {},
   "outputs": [
    {
     "name": "stdout",
     "output_type": "stream",
     "text": [
      "Retrieving the gc names for small sample of cities in headlines\n",
      "\n",
      "Miami Miami\n",
      "New York City New York City\n",
      "Miami Beach Miami Beach\n",
      "Recife Recife\n",
      "Dallas Dallas\n",
      "Trinidad Trinidad\n",
      "Houston Houston\n",
      "Geneve Genève\n",
      "Atlanta Atlanta\n",
      "Sao Paulo São Paulo\n",
      "Brownsville Brownsville\n"
     ]
    }
   ],
   "source": [
    "# Create a look dictionary pairing the decoded and undecoded city names \n",
    "# for all the city names in the gc city name dictionary\n",
    "\n",
    "gc_names = {}\n",
    "\n",
    "for k,v in gc.get_cities().items():\n",
    "    gc_name = gc.get_cities()[k]['name'] # retrieve the names in the gc city name dictionary\n",
    "    gc_names[unidecode(gc_name)] = gc_name # key-value pairs\n",
    "\n",
    "print('Retrieving the gc names for small sample of cities in headlines\\n')\n",
    "for city_name in df.loc[0:10,'City']: #find the gc_names for all the decoded names in the headlines\n",
    "    gc_name = gc_names[city_name]\n",
    "    print(city_name, gc_name)\n",
    "    "
   ]
  },
  {
   "cell_type": "markdown",
   "metadata": {},
   "source": [
    "Once we have the lookup name, we can use the 'get_cities_by_name' method to retrieve the associated entry in the city dictionary. The results are shown for the two lookup names."
   ]
  },
  {
   "cell_type": "code",
   "execution_count": 8,
   "metadata": {},
   "outputs": [
    {
     "name": "stdout",
     "output_type": "stream",
     "text": [
      "Properties for sample city accessed by city name:\n"
     ]
    },
    {
     "data": {
      "text/plain": [
       "[{'3448439': {'geonameid': 3448439,\n",
       "   'name': 'São Paulo',\n",
       "   'latitude': -23.5475,\n",
       "   'longitude': -46.63611,\n",
       "   'countrycode': 'BR',\n",
       "   'population': 10021295,\n",
       "   'timezone': 'America/Sao_Paulo',\n",
       "   'admin1code': '27'}}]"
      ]
     },
     "execution_count": 8,
     "metadata": {},
     "output_type": "execute_result"
    },
    {
     "data": {
      "text/plain": [
       "[{'4684888': {'geonameid': 4684888,\n",
       "   'name': 'Dallas',\n",
       "   'latitude': 32.78306,\n",
       "   'longitude': -96.80667,\n",
       "   'countrycode': 'US',\n",
       "   'population': 1300092,\n",
       "   'timezone': 'America/Chicago',\n",
       "   'admin1code': 'TX'}},\n",
       " {'5722064': {'geonameid': 5722064,\n",
       "   'name': 'Dallas',\n",
       "   'latitude': 44.91928,\n",
       "   'longitude': -123.31705,\n",
       "   'countrycode': 'US',\n",
       "   'population': 15277,\n",
       "   'timezone': 'America/Los_Angeles',\n",
       "   'admin1code': 'OR'}}]"
      ]
     },
     "execution_count": 8,
     "metadata": {},
     "output_type": "execute_result"
    }
   ],
   "source": [
    "print('Properties for sample city accessed by city name:')\n",
    "gc.get_cities_by_name('São Paulo')\n",
    "gc.get_cities_by_name('Dallas')"
   ]
  },
  {
   "cell_type": "markdown",
   "metadata": {},
   "source": [
    "<i>Issue 2: Some cities have multiple entries in the city name dictionary</i>\n",
    "\n",
    "For São Paulo there is only one entry in the city_name dictionary. For Dallas there are two. The reason there are two is because the dictionary has info on two cities named Dallas. Question becomes, how do we decide which entry is the one that matches the 'Dallas' in the headlines? If the headline mentioned the country and or the administrative subdivision (e.g. 'TX'), then we could more easily decide.  However, virtually none of the headlines provide this extra information. One potential solution is select the largest among the possibilities. The theory being that the alternative with the largest population is much more likely to appear in a headline. The code below illustrates one way of using 'population' to select among the alternatives with the same names."
   ]
  },
  {
   "cell_type": "code",
   "execution_count": 9,
   "metadata": {},
   "outputs": [
    {
     "name": "stdout",
     "output_type": "stream",
     "text": [
      "Selected Dictionary Entry for Sao Paulo Based on Population Size\n",
      "{'geonameid': 3448439, 'name': 'São Paulo', 'latitude': -23.5475, 'longitude': -46.63611, 'countrycode': 'BR', 'population': 10021295, 'timezone': 'America/Sao_Paulo', 'admin1code': '27'} \n",
      "\n",
      "Selected Dictionary Entry for Dallas Based on Population Size\n",
      "{'geonameid': 4684888, 'name': 'Dallas', 'latitude': 32.78306, 'longitude': -96.80667, 'countrycode': 'US', 'population': 1300092, 'timezone': 'America/Chicago', 'admin1code': 'TX'} \n",
      "\n"
     ]
    }
   ],
   "source": [
    "for city_name in ['Sao Paulo', 'Dallas']:\n",
    "    print(f'Selected Dictionary Entry for {city_name} Based on Population Size')\n",
    "    \n",
    "    # 1. retrieve the the alternative name for a given city name\n",
    "    if (city_name in alternative_names): city_name = alternative_names[city_name]\n",
    "    \n",
    "    # 2. among the alternatives find the dictionary entry with the largest population\n",
    "    city = max(gc.get_cities_by_name(city_name),key=lambda x: list(x.values())[0]['population'])\n",
    "    \n",
    "    # display dictionary entry\n",
    "    city = list(city.values())[0]\n",
    "    print(city,'\\n')"
   ]
  },
  {
   "cell_type": "markdown",
   "metadata": {},
   "source": [
    "<i>Retrieving the Latitude and Longitude along with the Country and Administrative Codes</i>\n",
    "\n",
    "Once we have the appropriate dictionary for each city, it's a straightforward task to retrieve any of the geographic properties of interest and append them to the existing headline dateframe. In our case, we're interested in the latitude and longitude. Additionally, since few headlines have a matching country name, we might add the countrycode to our dataframe. Potentially, the countrycode could be used for other validation and mapping purposes."
   ]
  },
  {
   "cell_type": "code",
   "execution_count": 10,
   "metadata": {},
   "outputs": [
    {
     "name": "stdout",
     "output_type": "stream",
     "text": [
      "Sample Properties:\n",
      "\n",
      "latitudes [25.77427, 40.71427, 25.79065, -8.05389, 32.78306]\n",
      "longitudes [-80.19366, -74.00597, -80.13005, -34.88111, -96.80667]\n",
      "countrycode ['US', 'US', 'US', 'BR', 'US']\n"
     ]
    }
   ],
   "source": [
    "latitudes, longitudes, countrycode, admin1code = [], [], [], []\n",
    "\n",
    "for city_name in df.City.values:\n",
    "    if (city_name in alternative_names): city_name = alternative_names[city_name]\n",
    "    city = max(gc.get_cities_by_name(city_name),key=lambda x: list(x.values())[0]['population'])\n",
    "    city = list(city.values())[0]\n",
    "    latitudes.append(city['latitude']) \n",
    "    longitudes.append(city['longitude'])\n",
    "    countrycode.append(city['countrycode'])\n",
    "\n",
    "print('Sample Properties:\\n')\n",
    "print('latitudes', latitudes[:5])\n",
    "print('longitudes', longitudes[:5])\n",
    "print('countrycode', countrycode[:5])\n",
    "    "
   ]
  },
  {
   "cell_type": "markdown",
   "metadata": {},
   "source": [
    "<h4>3. Add longitude and latitude coordinates to your DataFrame for each headline.</h4>\n",
    "\n",
    "Given the the lists for the additional properties of interest, we can simply 'assign' the new additions to the existing dataframe. Using the 'info' method we can see that with the exception of the 'Country' column, the resulting dataframe has entries for every row in every column.\n"
   ]
  },
  {
   "cell_type": "code",
   "execution_count": 11,
   "metadata": {
    "scrolled": true
   },
   "outputs": [
    {
     "data": {
      "text/html": [
       "<div>\n",
       "<style scoped>\n",
       "    .dataframe tbody tr th:only-of-type {\n",
       "        vertical-align: middle;\n",
       "    }\n",
       "\n",
       "    .dataframe tbody tr th {\n",
       "        vertical-align: top;\n",
       "    }\n",
       "\n",
       "    .dataframe thead th {\n",
       "        text-align: right;\n",
       "    }\n",
       "</style>\n",
       "<table border=\"1\" class=\"dataframe\">\n",
       "  <thead>\n",
       "    <tr style=\"text-align: right;\">\n",
       "      <th></th>\n",
       "      <th>Headline</th>\n",
       "      <th>City</th>\n",
       "      <th>Country</th>\n",
       "      <th>Latitude</th>\n",
       "      <th>Longitude</th>\n",
       "      <th>CountryCode</th>\n",
       "    </tr>\n",
       "  </thead>\n",
       "  <tbody>\n",
       "    <tr>\n",
       "      <th>0</th>\n",
       "      <td>Zika Outbreak Hits Miami</td>\n",
       "      <td>Miami</td>\n",
       "      <td>NaN</td>\n",
       "      <td>25.77427</td>\n",
       "      <td>-80.19366</td>\n",
       "      <td>US</td>\n",
       "    </tr>\n",
       "    <tr>\n",
       "      <th>1</th>\n",
       "      <td>Could Zika Reach New York City?</td>\n",
       "      <td>New York City</td>\n",
       "      <td>NaN</td>\n",
       "      <td>40.71427</td>\n",
       "      <td>-74.00597</td>\n",
       "      <td>US</td>\n",
       "    </tr>\n",
       "    <tr>\n",
       "      <th>2</th>\n",
       "      <td>First Case of Zika in Miami Beach</td>\n",
       "      <td>Miami Beach</td>\n",
       "      <td>NaN</td>\n",
       "      <td>25.79065</td>\n",
       "      <td>-80.13005</td>\n",
       "      <td>US</td>\n",
       "    </tr>\n",
       "    <tr>\n",
       "      <th>3</th>\n",
       "      <td>Mystery Virus Spreads in Recife, Brazil</td>\n",
       "      <td>Recife</td>\n",
       "      <td>Brazil</td>\n",
       "      <td>-8.05389</td>\n",
       "      <td>-34.88111</td>\n",
       "      <td>BR</td>\n",
       "    </tr>\n",
       "    <tr>\n",
       "      <th>4</th>\n",
       "      <td>Dallas man comes down with case of Zika</td>\n",
       "      <td>Dallas</td>\n",
       "      <td>NaN</td>\n",
       "      <td>32.78306</td>\n",
       "      <td>-96.80667</td>\n",
       "      <td>US</td>\n",
       "    </tr>\n",
       "  </tbody>\n",
       "</table>\n",
       "</div>"
      ],
      "text/plain": [
       "                                  Headline           City Country  Latitude  \\\n",
       "0                 Zika Outbreak Hits Miami          Miami     NaN  25.77427   \n",
       "1          Could Zika Reach New York City?  New York City     NaN  40.71427   \n",
       "2        First Case of Zika in Miami Beach    Miami Beach     NaN  25.79065   \n",
       "3  Mystery Virus Spreads in Recife, Brazil         Recife  Brazil  -8.05389   \n",
       "4  Dallas man comes down with case of Zika         Dallas     NaN  32.78306   \n",
       "\n",
       "   Longitude CountryCode  \n",
       "0  -80.19366          US  \n",
       "1  -74.00597          US  \n",
       "2  -80.13005          US  \n",
       "3  -34.88111          BR  \n",
       "4  -96.80667          US  "
      ]
     },
     "execution_count": 11,
     "metadata": {},
     "output_type": "execute_result"
    },
    {
     "name": "stdout",
     "output_type": "stream",
     "text": [
      "<class 'pandas.core.frame.DataFrame'>\n",
      "RangeIndex: 611 entries, 0 to 610\n",
      "Data columns (total 6 columns):\n",
      " #   Column       Non-Null Count  Dtype  \n",
      "---  ------       --------------  -----  \n",
      " 0   Headline     611 non-null    object \n",
      " 1   City         611 non-null    object \n",
      " 2   Country      15 non-null     object \n",
      " 3   Latitude     611 non-null    float64\n",
      " 4   Longitude    611 non-null    float64\n",
      " 5   CountryCode  611 non-null    object \n",
      "dtypes: float64(2), object(4)\n",
      "memory usage: 28.8+ KB\n"
     ]
    }
   ],
   "source": [
    "df = df.assign(Latitude=latitudes, Longitude=longitudes, CountryCode=countrycode)\n",
    "\n",
    "df.head()\n",
    "df.info()"
   ]
  },
  {
   "cell_type": "markdown",
   "metadata": {},
   "source": [
    "<h4>Saving the dataframe for future analysis</h4>"
   ]
  },
  {
   "cell_type": "code",
   "execution_count": 12,
   "metadata": {},
   "outputs": [],
   "source": [
    "df.to_csv(r'data\\df_headlines_complete_info_p2.txt', na_rep = 'NaN', index=None, sep='|')"
   ]
  }
 ],
 "metadata": {
  "CodeCell": {
   "cm_config": {
    "lineWrapping": true
   }
  },
  "MarkdownCell": {
   "cm_config": {
    "lineWrapping": true
   }
  },
  "kernelspec": {
   "display_name": "Python 3",
   "language": "python",
   "name": "python3"
  },
  "language_info": {
   "codemirror_mode": {
    "name": "ipython",
    "version": 3
   },
   "file_extension": ".py",
   "mimetype": "text/x-python",
   "name": "python",
   "nbconvert_exporter": "python",
   "pygments_lexer": "ipython3",
   "version": "3.7.3"
  }
 },
 "nbformat": 4,
 "nbformat_minor": 4
}
